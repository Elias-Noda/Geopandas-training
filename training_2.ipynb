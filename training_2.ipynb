{
 "cells": [
  {
   "cell_type": "code",
   "execution_count": 1,
   "metadata": {},
   "outputs": [],
   "source": [
    "from shapely.geometry import Point, LineString, Polygon"
   ]
  },
  {
   "cell_type": "code",
   "execution_count": 2,
   "metadata": {},
   "outputs": [],
   "source": [
    "ponto = Point(5,10)"
   ]
  },
  {
   "cell_type": "code",
   "execution_count": 3,
   "metadata": {},
   "outputs": [
    {
     "data": {
      "image/svg+xml": [
       "<svg xmlns=\"http://www.w3.org/2000/svg\" xmlns:xlink=\"http://www.w3.org/1999/xlink\" width=\"100.0\" height=\"100.0\" viewBox=\"4.0 9.0 2.0 2.0\" preserveAspectRatio=\"xMinYMin meet\"><g transform=\"matrix(1,0,0,-1,0,20.0)\"><circle cx=\"5.0\" cy=\"10.0\" r=\"0.06\" stroke=\"#555555\" stroke-width=\"0.02\" fill=\"#66cc99\" opacity=\"0.6\" /></g></svg>"
      ],
      "text/plain": [
       "<POINT (5 10)>"
      ]
     },
     "execution_count": 3,
     "metadata": {},
     "output_type": "execute_result"
    }
   ],
   "source": [
    "ponto"
   ]
  },
  {
   "cell_type": "code",
   "execution_count": 4,
   "metadata": {},
   "outputs": [
    {
     "name": "stdout",
     "output_type": "stream",
     "text": [
      "POINT (5 10)\n"
     ]
    }
   ],
   "source": [
    "print(ponto)"
   ]
  },
  {
   "cell_type": "code",
   "execution_count": 5,
   "metadata": {},
   "outputs": [
    {
     "data": {
      "text/plain": [
       "shapely.geometry.point.Point"
      ]
     },
     "execution_count": 5,
     "metadata": {},
     "output_type": "execute_result"
    }
   ],
   "source": [
    "type(ponto)"
   ]
  },
  {
   "cell_type": "code",
   "execution_count": 6,
   "metadata": {},
   "outputs": [
    {
     "data": {
      "text/plain": [
       "<shapely.coords.CoordinateSequence at 0x2a6af10af30>"
      ]
     },
     "execution_count": 6,
     "metadata": {},
     "output_type": "execute_result"
    }
   ],
   "source": [
    "ponto.coords"
   ]
  },
  {
   "cell_type": "code",
   "execution_count": 7,
   "metadata": {},
   "outputs": [
    {
     "data": {
      "text/plain": [
       "[(5.0, 10.0)]"
      ]
     },
     "execution_count": 7,
     "metadata": {},
     "output_type": "execute_result"
    }
   ],
   "source": [
    "list(ponto.coords)"
   ]
  },
  {
   "cell_type": "code",
   "execution_count": 8,
   "metadata": {},
   "outputs": [
    {
     "name": "stdout",
     "output_type": "stream",
     "text": [
      "5.0 10.0\n"
     ]
    }
   ],
   "source": [
    "x = ponto.x\n",
    "y = ponto.y\n",
    "\n",
    "print(x,y)"
   ]
  },
  {
   "cell_type": "code",
   "execution_count": 10,
   "metadata": {},
   "outputs": [
    {
     "name": "stdout",
     "output_type": "stream",
     "text": [
      "Distância entre os pontos: 5.0\n"
     ]
    }
   ],
   "source": [
    "ponto_1 = Point(2,3)\n",
    "ponto_2 = Point(5,7)\n",
    "\n",
    "distancia = ponto_1.distance(ponto_2)\n",
    "\n",
    "print(\"Distância entre os pontos:\", distancia)"
   ]
  },
  {
   "cell_type": "code",
   "execution_count": 11,
   "metadata": {},
   "outputs": [],
   "source": [
    "ponto_1 = Point(2,3)\n",
    "ponto_2 = Point(5,7)\n",
    "ponto_3 = Point(2,10)\n",
    "\n",
    "linha = LineString([ponto_1,ponto_2,ponto_3])"
   ]
  },
  {
   "cell_type": "code",
   "execution_count": 12,
   "metadata": {},
   "outputs": [
    {
     "data": {
      "image/svg+xml": [
       "<svg xmlns=\"http://www.w3.org/2000/svg\" xmlns:xlink=\"http://www.w3.org/1999/xlink\" width=\"100.0\" height=\"100.0\" viewBox=\"1.72 2.7199999999999998 3.5600000000000005 7.56\" preserveAspectRatio=\"xMinYMin meet\"><g transform=\"matrix(1,0,0,-1,0,13.0)\"><polyline fill=\"none\" stroke=\"#66cc99\" stroke-width=\"0.1512\" points=\"2.0,3.0 5.0,7.0 2.0,10.0\" opacity=\"0.8\" /></g></svg>"
      ],
      "text/plain": [
       "<LINESTRING (2 3, 5 7, 2 10)>"
      ]
     },
     "execution_count": 12,
     "metadata": {},
     "output_type": "execute_result"
    }
   ],
   "source": [
    "linha"
   ]
  },
  {
   "cell_type": "code",
   "execution_count": 13,
   "metadata": {},
   "outputs": [
    {
     "name": "stdout",
     "output_type": "stream",
     "text": [
      "LINESTRING (2 3, 5 7, 2 10)\n"
     ]
    }
   ],
   "source": [
    "print(linha)"
   ]
  },
  {
   "cell_type": "code",
   "execution_count": 14,
   "metadata": {},
   "outputs": [
    {
     "data": {
      "text/plain": [
       "shapely.geometry.linestring.LineString"
      ]
     },
     "execution_count": 14,
     "metadata": {},
     "output_type": "execute_result"
    }
   ],
   "source": [
    "type(linha)"
   ]
  },
  {
   "cell_type": "code",
   "execution_count": 15,
   "metadata": {},
   "outputs": [
    {
     "data": {
      "text/plain": [
       "[(2.0, 3.0), (5.0, 7.0), (2.0, 10.0)]"
      ]
     },
     "execution_count": 15,
     "metadata": {},
     "output_type": "execute_result"
    }
   ],
   "source": [
    "list(linha.coords)"
   ]
  },
  {
   "cell_type": "code",
   "execution_count": 16,
   "metadata": {},
   "outputs": [
    {
     "data": {
      "text/plain": [
       "(array('d', [2.0, 5.0, 2.0]), array('d', [3.0, 7.0, 10.0]))"
      ]
     },
     "execution_count": 16,
     "metadata": {},
     "output_type": "execute_result"
    }
   ],
   "source": [
    "linha.xy"
   ]
  },
  {
   "cell_type": "code",
   "execution_count": 22,
   "metadata": {},
   "outputs": [
    {
     "name": "stdout",
     "output_type": "stream",
     "text": [
      "Coordenadas x: [2.0, 5.0, 2.0]\n",
      "Coordenadas y: [3.0, 7.0, 10.0]\n"
     ]
    }
   ],
   "source": [
    "coordenadas_x = list(linha.xy[0])\n",
    "coordenadas_y = list(linha.xy[1])\n",
    "\n",
    "print(\"Coordenadas x:\", coordenadas_x)\n",
    "print(\"Coordenadas y:\", coordenadas_y)"
   ]
  },
  {
   "cell_type": "code",
   "execution_count": 24,
   "metadata": {},
   "outputs": [
    {
     "data": {
      "text/plain": [
       "9.242640687119284"
      ]
     },
     "execution_count": 24,
     "metadata": {},
     "output_type": "execute_result"
    }
   ],
   "source": [
    "linha.length"
   ]
  },
  {
   "cell_type": "code",
   "execution_count": 25,
   "metadata": {},
   "outputs": [
    {
     "data": {
      "image/svg+xml": [
       "<svg xmlns=\"http://www.w3.org/2000/svg\" xmlns:xlink=\"http://www.w3.org/1999/xlink\" width=\"100.0\" height=\"100.0\" viewBox=\"2.5000000000000004 5.606601717798214 1.9999999999999996 2.0\" preserveAspectRatio=\"xMinYMin meet\"><g transform=\"matrix(1,0,0,-1,0,13.213203435596428)\"><circle cx=\"3.5000000000000004\" cy=\"6.606601717798214\" r=\"0.06\" stroke=\"#555555\" stroke-width=\"0.02\" fill=\"#66cc99\" opacity=\"0.6\" /></g></svg>"
      ],
      "text/plain": [
       "<POINT (3.5 6.607)>"
      ]
     },
     "execution_count": 25,
     "metadata": {},
     "output_type": "execute_result"
    }
   ],
   "source": [
    "linha.centroid"
   ]
  },
  {
   "cell_type": "code",
   "execution_count": 26,
   "metadata": {},
   "outputs": [
    {
     "name": "stdout",
     "output_type": "stream",
     "text": [
      "POINT (3.5000000000000004 6.606601717798214)\n"
     ]
    }
   ],
   "source": [
    "print(linha.centroid)"
   ]
  },
  {
   "cell_type": "code",
   "execution_count": 27,
   "metadata": {},
   "outputs": [],
   "source": [
    "poly = Polygon([(2,3), (5,7), (2,10)])"
   ]
  },
  {
   "cell_type": "code",
   "execution_count": 28,
   "metadata": {},
   "outputs": [
    {
     "data": {
      "image/svg+xml": [
       "<svg xmlns=\"http://www.w3.org/2000/svg\" xmlns:xlink=\"http://www.w3.org/1999/xlink\" width=\"100.0\" height=\"100.0\" viewBox=\"1.72 2.7199999999999998 3.5600000000000005 7.56\" preserveAspectRatio=\"xMinYMin meet\"><g transform=\"matrix(1,0,0,-1,0,13.0)\"><path fill-rule=\"evenodd\" fill=\"#66cc99\" stroke=\"#555555\" stroke-width=\"0.1512\" opacity=\"0.6\" d=\"M 2.0,3.0 L 5.0,7.0 L 2.0,10.0 L 2.0,3.0 z\" /></g></svg>"
      ],
      "text/plain": [
       "<POLYGON ((2 3, 5 7, 2 10, 2 3))>"
      ]
     },
     "execution_count": 28,
     "metadata": {},
     "output_type": "execute_result"
    }
   ],
   "source": [
    "poly"
   ]
  },
  {
   "cell_type": "code",
   "execution_count": 29,
   "metadata": {},
   "outputs": [
    {
     "name": "stdout",
     "output_type": "stream",
     "text": [
      "POLYGON ((2 3, 5 7, 2 10, 2 3))\n"
     ]
    }
   ],
   "source": [
    "print(poly)"
   ]
  },
  {
   "cell_type": "code",
   "execution_count": 30,
   "metadata": {},
   "outputs": [
    {
     "data": {
      "text/plain": [
       "shapely.geometry.polygon.Polygon"
      ]
     },
     "execution_count": 30,
     "metadata": {},
     "output_type": "execute_result"
    }
   ],
   "source": [
    "type(poly)"
   ]
  },
  {
   "cell_type": "code",
   "execution_count": 31,
   "metadata": {},
   "outputs": [
    {
     "data": {
      "text/plain": [
       "<shapely.coords.CoordinateSequence at 0x2a6be6bba10>"
      ]
     },
     "execution_count": 31,
     "metadata": {},
     "output_type": "execute_result"
    }
   ],
   "source": [
    "poly.exterior.coords"
   ]
  },
  {
   "cell_type": "code",
   "execution_count": 32,
   "metadata": {},
   "outputs": [
    {
     "data": {
      "text/plain": [
       "[(2.0, 3.0), (5.0, 7.0), (2.0, 10.0), (2.0, 3.0)]"
      ]
     },
     "execution_count": 32,
     "metadata": {},
     "output_type": "execute_result"
    }
   ],
   "source": [
    "list(poly.exterior.coords)"
   ]
  },
  {
   "cell_type": "code",
   "execution_count": 33,
   "metadata": {},
   "outputs": [
    {
     "name": "stdout",
     "output_type": "stream",
     "text": [
      "Área = 10.5\n"
     ]
    }
   ],
   "source": [
    "poly_area = poly.area\n",
    "\n",
    "print(\"Área =\", poly_area)"
   ]
  },
  {
   "cell_type": "code",
   "execution_count": 36,
   "metadata": {},
   "outputs": [
    {
     "data": {
      "image/svg+xml": [
       "<svg xmlns=\"http://www.w3.org/2000/svg\" xmlns:xlink=\"http://www.w3.org/1999/xlink\" width=\"100.0\" height=\"100.0\" viewBox=\"2.0 5.666666666666667 2.0 2.0\" preserveAspectRatio=\"xMinYMin meet\"><g transform=\"matrix(1,0,0,-1,0,13.333333333333334)\"><circle cx=\"3.0\" cy=\"6.666666666666667\" r=\"0.06\" stroke=\"#555555\" stroke-width=\"0.02\" fill=\"#66cc99\" opacity=\"0.6\" /></g></svg>"
      ],
      "text/plain": [
       "<POINT (3 6.667)>"
      ]
     },
     "execution_count": 36,
     "metadata": {},
     "output_type": "execute_result"
    }
   ],
   "source": [
    "poly.centroid"
   ]
  },
  {
   "cell_type": "code",
   "execution_count": 37,
   "metadata": {},
   "outputs": [
    {
     "name": "stdout",
     "output_type": "stream",
     "text": [
      "POINT (3 6.666666666666667)\n"
     ]
    }
   ],
   "source": [
    "poly_centroid = poly.centroid\n",
    "\n",
    "print(poly_centroid)"
   ]
  },
  {
   "cell_type": "code",
   "execution_count": 38,
   "metadata": {},
   "outputs": [
    {
     "data": {
      "text/plain": [
       "(2.0, 3.0, 5.0, 10.0)"
      ]
     },
     "execution_count": 38,
     "metadata": {},
     "output_type": "execute_result"
    }
   ],
   "source": [
    "poly.bounds"
   ]
  },
  {
   "cell_type": "code",
   "execution_count": 39,
   "metadata": {},
   "outputs": [
    {
     "data": {
      "image/svg+xml": [
       "<svg xmlns=\"http://www.w3.org/2000/svg\" xmlns:xlink=\"http://www.w3.org/1999/xlink\" width=\"100.0\" height=\"100.0\" viewBox=\"1.72 2.7199999999999998 3.5600000000000005 7.56\" preserveAspectRatio=\"xMinYMin meet\"><g transform=\"matrix(1,0,0,-1,0,13.0)\"><polyline fill=\"none\" stroke=\"#66cc99\" stroke-width=\"0.1512\" points=\"2.0,3.0 5.0,7.0 2.0,10.0 2.0,3.0\" opacity=\"0.8\" /></g></svg>"
      ],
      "text/plain": [
       "<LINEARRING (2 3, 5 7, 2 10, 2 3)>"
      ]
     },
     "execution_count": 39,
     "metadata": {},
     "output_type": "execute_result"
    }
   ],
   "source": [
    "poly.exterior"
   ]
  },
  {
   "cell_type": "code",
   "execution_count": 40,
   "metadata": {},
   "outputs": [
    {
     "name": "stdout",
     "output_type": "stream",
     "text": [
      "Exterior: LINEARRING (2 3, 5 7, 2 10, 2 3)\n"
     ]
    }
   ],
   "source": [
    "poly_exterior = poly.exterior\n",
    "\n",
    "print(\"Exterior:\", poly_exterior)"
   ]
  },
  {
   "cell_type": "code",
   "execution_count": 41,
   "metadata": {},
   "outputs": [
    {
     "data": {
      "text/plain": [
       "16.242640687119284"
      ]
     },
     "execution_count": 41,
     "metadata": {},
     "output_type": "execute_result"
    }
   ],
   "source": [
    "poly.exterior.length"
   ]
  },
  {
   "cell_type": "code",
   "execution_count": 43,
   "metadata": {},
   "outputs": [
    {
     "name": "stdout",
     "output_type": "stream",
     "text": [
      "Comrpimento do exterior: 16.242640687119284\n"
     ]
    }
   ],
   "source": [
    "poly_exterior_length = poly.exterior.length\n",
    "\n",
    "print(\"Comrpimento do exterior:\", poly_exterior_length)"
   ]
  },
  {
   "cell_type": "code",
   "execution_count": 45,
   "metadata": {},
   "outputs": [
    {
     "data": {
      "image/svg+xml": [
       "<svg xmlns=\"http://www.w3.org/2000/svg\" xmlns:xlink=\"http://www.w3.org/1999/xlink\" width=\"100.0\" height=\"100.0\" viewBox=\"0.92 -0.08 2.16 2.16\" preserveAspectRatio=\"xMinYMin meet\"><g transform=\"matrix(1,0,0,-1,0,2.0)\"><path fill-rule=\"evenodd\" fill=\"#66cc99\" stroke=\"#555555\" stroke-width=\"0.0432\" opacity=\"0.6\" d=\"M 3.0,1.0 L 2.995184726672197,0.9019828596704393 L 2.9807852804032304,0.8049096779838718 L 2.9569403357322086,0.7097153227455377 L 2.923879532511287,0.6173165676349102 L 2.881921264348355,0.5286032631740023 L 2.8314696123025453,0.4444297669803978 L 2.773010453362737,0.3656067158363545 L 2.7071067811865475,0.2928932188134524 L 2.6343932841636457,0.22698954663726312 L 2.555570233019602,0.16853038769745476 L 2.471396736825998,0.11807873565164506 L 2.3826834323650896,0.07612046748871326 L 2.2902846772544625,0.043059664267791065 L 2.1950903220161284,0.01921471959676957 L 2.098017140329561,0.004815273327803182 L 2.0,0.0 L 1.9019828596704393,0.004815273327803071 L 1.8049096779838718,0.01921471959676957 L 1.709715322745538,0.043059664267791065 L 1.6173165676349104,0.07612046748871326 L 1.5286032631740023,0.11807873565164495 L 1.444429766980398,0.16853038769745465 L 1.3656067158363547,0.2269895466372629 L 1.2928932188134525,0.2928932188134524 L 1.2269895466372631,0.3656067158363545 L 1.1685303876974547,0.4444297669803978 L 1.118078735651645,0.5286032631740022 L 1.0761204674887133,0.6173165676349102 L 1.0430596642677912,0.7097153227455376 L 1.0192147195967696,0.8049096779838714 L 1.0048152733278033,0.9019828596704391 L 1.0,0.9999999999999999 L 1.004815273327803,1.0980171403295607 L 1.0192147195967696,1.1950903220161284 L 1.043059664267791,1.290284677254462 L 1.076120467488713,1.3826834323650896 L 1.118078735651645,1.4713967368259977 L 1.1685303876974547,1.555570233019602 L 1.226989546637263,1.6343932841636453 L 1.2928932188134523,1.7071067811865475 L 1.365606715836354,1.7730104533627367 L 1.4444297669803978,1.8314696123025453 L 1.528603263174002,1.881921264348355 L 1.6173165676349097,1.9238795325112865 L 1.7097153227455375,1.9569403357322088 L 1.8049096779838714,1.9807852804032304 L 1.9019828596704396,1.995184726672197 L 1.9999999999999998,2.0 L 2.09801714032956,1.995184726672197 L 2.1950903220161284,1.9807852804032304 L 2.290284677254462,1.956940335732209 L 2.38268343236509,1.9238795325112865 L 2.4713967368259975,1.881921264348355 L 2.5555702330196017,1.8314696123025453 L 2.6343932841636457,1.7730104533627369 L 2.7071067811865475,1.7071067811865477 L 2.7730104533627364,1.634393284163646 L 2.8314696123025453,1.5555702330196022 L 2.881921264348355,1.471396736825998 L 2.9238795325112865,1.3826834323650905 L 2.9569403357322086,1.2902846772544625 L 2.9807852804032304,1.1950903220161286 L 2.995184726672197,1.0980171403295604 L 3.0,1.0 z\" /></g></svg>"
      ],
      "text/plain": [
       "<POLYGON ((3 1, 2.995 0.902, 2.981 0.805, 2.957 0.71, 2.924 0.617, 2.882 0.5...>"
      ]
     },
     "execution_count": 45,
     "metadata": {},
     "output_type": "execute_result"
    }
   ],
   "source": [
    "circulo_1 = Point(1,1).buffer(1)\n",
    "circulo_2 = Point(2,1).buffer(1)\n",
    "\n",
    "circulo_2"
   ]
  },
  {
   "cell_type": "code",
   "execution_count": 46,
   "metadata": {},
   "outputs": [
    {
     "name": "stdout",
     "output_type": "stream",
     "text": [
      "POLYGON ((3 1, 2.995184726672197 0.9019828596704393, 2.9807852804032304 0.8049096779838718, 2.9569403357322086 0.7097153227455377, 2.923879532511287 0.6173165676349102, 2.881921264348355 0.5286032631740023, 2.8314696123025453 0.4444297669803978, 2.773010453362737 0.3656067158363545, 2.7071067811865475 0.2928932188134524, 2.6343932841636457 0.2269895466372631, 2.555570233019602 0.1685303876974548, 2.471396736825998 0.1180787356516451, 2.3826834323650896 0.0761204674887133, 2.2902846772544625 0.0430596642677911, 2.1950903220161284 0.0192147195967696, 2.098017140329561 0.0048152733278032, 2 0, 1.9019828596704393 0.0048152733278031, 1.8049096779838718 0.0192147195967696, 1.709715322745538 0.0430596642677911, 1.6173165676349104 0.0761204674887133, 1.5286032631740023 0.118078735651645, 1.444429766980398 0.1685303876974546, 1.3656067158363547 0.2269895466372629, 1.2928932188134525 0.2928932188134524, 1.2269895466372631 0.3656067158363545, 1.1685303876974547 0.4444297669803978, 1.118078735651645 0.5286032631740022, 1.0761204674887133 0.6173165676349102, 1.0430596642677912 0.7097153227455376, 1.0192147195967696 0.8049096779838714, 1.0048152733278033 0.9019828596704391, 1 0.9999999999999999, 1.004815273327803 1.0980171403295607, 1.0192147195967696 1.1950903220161284, 1.043059664267791 1.290284677254462, 1.076120467488713 1.3826834323650896, 1.118078735651645 1.4713967368259977, 1.1685303876974547 1.555570233019602, 1.226989546637263 1.6343932841636453, 1.2928932188134523 1.7071067811865475, 1.365606715836354 1.7730104533627367, 1.4444297669803978 1.8314696123025453, 1.528603263174002 1.881921264348355, 1.6173165676349097 1.9238795325112865, 1.7097153227455375 1.9569403357322088, 1.8049096779838714 1.9807852804032304, 1.9019828596704396 1.995184726672197, 1.9999999999999998 2, 2.09801714032956 1.995184726672197, 2.1950903220161284 1.9807852804032304, 2.290284677254462 1.956940335732209, 2.38268343236509 1.9238795325112865, 2.4713967368259975 1.881921264348355, 2.5555702330196017 1.8314696123025453, 2.6343932841636457 1.7730104533627369, 2.7071067811865475 1.7071067811865477, 2.7730104533627364 1.634393284163646, 2.8314696123025453 1.5555702330196022, 2.881921264348355 1.471396736825998, 2.9238795325112865 1.3826834323650905, 2.9569403357322086 1.2902846772544625, 2.9807852804032304 1.1950903220161286, 2.995184726672197 1.0980171403295604, 3 1))\n"
     ]
    }
   ],
   "source": [
    "print(circulo_2)"
   ]
  },
  {
   "cell_type": "code",
   "execution_count": 47,
   "metadata": {},
   "outputs": [
    {
     "data": {
      "text/plain": [
       "shapely.geometry.polygon.Polygon"
      ]
     },
     "execution_count": 47,
     "metadata": {},
     "output_type": "execute_result"
    }
   ],
   "source": [
    "type(circulo_2)"
   ]
  },
  {
   "cell_type": "code",
   "execution_count": 48,
   "metadata": {},
   "outputs": [],
   "source": [
    "import matplotlib.pyplot as plt"
   ]
  },
  {
   "cell_type": "code",
   "execution_count": 53,
   "metadata": {},
   "outputs": [
    {
     "data": {
      "image/png": "[encoded data removed]",
      "text/plain": [
       "<Figure size 640x480 with 1 Axes>"
      ]
     },
     "metadata": {},
     "output_type": "display_data"
    }
   ],
   "source": [
    "x,y = circulo_1.exterior.xy\n",
    "plt.plot(x,y)\n",
    "\n",
    "plt.show()"
   ]
  },
  {
   "cell_type": "code",
   "execution_count": 54,
   "metadata": {},
   "outputs": [
    {
     "data": {
      "image/png": "[encoded data removed]",
      "text/plain": [
       "<Figure size 640x480 with 1 Axes>"
      ]
     },
     "metadata": {},
     "output_type": "display_data"
    }
   ],
   "source": [
    "x,y = circulo_1.exterior.xy\n",
    "plt.plot(x,y)\n",
    "\n",
    "x,y = circulo_2.exterior.xy\n",
    "plt.plot(x,y)\n",
    "\n",
    "plt.show()"
   ]
  },
  {
   "cell_type": "code",
   "execution_count": 55,
   "metadata": {},
   "outputs": [
    {
     "data": {
      "image/svg+xml": [
       "<svg xmlns=\"http://www.w3.org/2000/svg\" xmlns:xlink=\"http://www.w3.org/1999/xlink\" width=\"100.0\" height=\"100.0\" viewBox=\"0.9308178297460941 0.06604070157226961 1.138364340507812 1.8679185968554606\" preserveAspectRatio=\"xMinYMin meet\"><g transform=\"matrix(1,0,0,-1,0,2.0)\"><path fill-rule=\"evenodd\" fill=\"#66cc99\" stroke=\"#555555\" stroke-width=\"0.03735837193710921\" opacity=\"0.6\" d=\"M 1.995184726672197,0.9019828596704393 L 1.9807852804032304,0.8049096779838718 L 1.9569403357322088,0.7097153227455377 L 1.9238795325112867,0.6173165676349102 L 1.881921264348355,0.5286032631740023 L 1.8314696123025453,0.4444297669803978 L 1.7730104533627369,0.3656067158363545 L 1.7071067811865475,0.2928932188134524 L 1.6343932841636455,0.22698954663726312 L 1.5555702330196022,0.16853038769745476 L 1.5,0.13522287182617557 L 1.444429766980398,0.16853038769745465 L 1.3656067158363547,0.2269895466372629 L 1.2928932188134525,0.2928932188134524 L 1.2269895466372631,0.3656067158363545 L 1.1685303876974547,0.4444297669803978 L 1.118078735651645,0.5286032631740022 L 1.0761204674887133,0.6173165676349102 L 1.0430596642677912,0.7097153227455376 L 1.0192147195967696,0.8049096779838714 L 1.0048152733278033,0.9019828596704391 L 1.0,0.9999999999999999 L 1.004815273327803,1.0980171403295607 L 1.0192147195967696,1.1950903220161284 L 1.043059664267791,1.290284677254462 L 1.076120467488713,1.3826834323650896 L 1.118078735651645,1.4713967368259977 L 1.1685303876974547,1.555570233019602 L 1.226989546637263,1.6343932841636453 L 1.2928932188134523,1.7071067811865475 L 1.365606715836354,1.7730104533627367 L 1.4444297669803978,1.8314696123025453 L 1.4999999999999998,1.8647771281738243 L 1.5555702330196017,1.8314696123025453 L 1.6343932841636457,1.7730104533627369 L 1.7071067811865475,1.7071067811865477 L 1.7730104533627364,1.634393284163646 L 1.8314696123025453,1.5555702330196022 L 1.881921264348355,1.471396736825998 L 1.9238795325112865,1.3826834323650905 L 1.9569403357322088,1.2902846772544625 L 1.9807852804032304,1.1950903220161286 L 1.995184726672197,1.0980171403295604 L 2.0,1.0 L 1.995184726672197,0.9019828596704393 z\" /></g></svg>"
      ],
      "text/plain": [
       "<POLYGON ((1.995 0.902, 1.981 0.805, 1.957 0.71, 1.924 0.617, 1.882 0.529, 1...>"
      ]
     },
     "execution_count": 55,
     "metadata": {},
     "output_type": "execute_result"
    }
   ],
   "source": [
    "circulo_1.intersection(circulo_2)"
   ]
  },
  {
   "cell_type": "code",
   "execution_count": 58,
   "metadata": {},
   "outputs": [
    {
     "data": {
      "image/svg+xml": [
       "<svg xmlns=\"http://www.w3.org/2000/svg\" xmlns:xlink=\"http://www.w3.org/1999/xlink\" width=\"100.0\" height=\"100.0\" viewBox=\"0.9308178297460941 0.06604070157226961 1.138364340507812 1.8679185968554606\" preserveAspectRatio=\"xMinYMin meet\"><g transform=\"matrix(1,0,0,-1,0,2.0)\"><path fill-rule=\"evenodd\" fill=\"#66cc99\" stroke=\"#555555\" stroke-width=\"0.03735837193710921\" opacity=\"0.6\" d=\"M 1.995184726672197,0.9019828596704393 L 1.9807852804032304,0.8049096779838718 L 1.9569403357322088,0.7097153227455377 L 1.9238795325112867,0.6173165676349102 L 1.881921264348355,0.5286032631740023 L 1.8314696123025453,0.4444297669803978 L 1.7730104533627369,0.3656067158363545 L 1.7071067811865475,0.2928932188134524 L 1.6343932841636455,0.22698954663726312 L 1.5555702330196022,0.16853038769745476 L 1.5,0.13522287182617557 L 1.444429766980398,0.16853038769745465 L 1.3656067158363547,0.2269895466372629 L 1.2928932188134525,0.2928932188134524 L 1.2269895466372631,0.3656067158363545 L 1.1685303876974547,0.4444297669803978 L 1.118078735651645,0.5286032631740022 L 1.0761204674887133,0.6173165676349102 L 1.0430596642677912,0.7097153227455376 L 1.0192147195967696,0.8049096779838714 L 1.0048152733278033,0.9019828596704391 L 1.0,0.9999999999999999 L 1.004815273327803,1.0980171403295607 L 1.0192147195967696,1.1950903220161284 L 1.043059664267791,1.290284677254462 L 1.076120467488713,1.3826834323650896 L 1.118078735651645,1.4713967368259977 L 1.1685303876974547,1.555570233019602 L 1.226989546637263,1.6343932841636453 L 1.2928932188134523,1.7071067811865475 L 1.365606715836354,1.7730104533627367 L 1.4444297669803978,1.8314696123025453 L 1.4999999999999998,1.8647771281738243 L 1.5555702330196017,1.8314696123025453 L 1.6343932841636457,1.7730104533627369 L 1.7071067811865475,1.7071067811865477 L 1.7730104533627364,1.634393284163646 L 1.8314696123025453,1.5555702330196022 L 1.881921264348355,1.471396736825998 L 1.9238795325112865,1.3826834323650905 L 1.9569403357322088,1.2902846772544625 L 1.9807852804032304,1.1950903220161286 L 1.995184726672197,1.0980171403295604 L 2.0,1.0 L 1.995184726672197,0.9019828596704393 z\" /></g></svg>"
      ],
      "text/plain": [
       "<POLYGON ((1.995 0.902, 1.981 0.805, 1.957 0.71, 1.924 0.617, 1.882 0.529, 1...>"
      ]
     },
     "execution_count": 58,
     "metadata": {},
     "output_type": "execute_result"
    }
   ],
   "source": [
    "circulo_inter = circulo_1.intersection(circulo_2)\n",
    "\n",
    "circulo_inter"
   ]
  },
  {
   "cell_type": "code",
   "execution_count": 61,
   "metadata": {},
   "outputs": [
    {
     "data": {
      "image/svg+xml": [
       "<svg xmlns=\"http://www.w3.org/2000/svg\" xmlns:xlink=\"http://www.w3.org/1999/xlink\" width=\"100.0\" height=\"100.0\" viewBox=\"-0.12 -0.12 3.24 2.24\" preserveAspectRatio=\"xMinYMin meet\"><g transform=\"matrix(1,0,0,-1,0,2.0)\"><path fill-rule=\"evenodd\" fill=\"#66cc99\" stroke=\"#555555\" stroke-width=\"0.06480000000000001\" opacity=\"0.6\" d=\"M 1.471396736825998,0.11807873565164506 L 1.3826834323650898,0.07612046748871326 L 1.2902846772544623,0.043059664267791065 L 1.1950903220161284,0.01921471959676957 L 1.0980171403295609,0.004815273327803182 L 1.0,0.0 L 0.9019828596704393,0.004815273327803071 L 0.8049096779838718,0.01921471959676957 L 0.7097153227455378,0.043059664267791065 L 0.6173165676349103,0.07612046748871326 L 0.5286032631740023,0.11807873565164495 L 0.44442976698039804,0.16853038769745465 L 0.3656067158363546,0.2269895466372629 L 0.29289321881345254,0.2928932188134524 L 0.226989546637263,0.3656067158363545 L 0.16853038769745465,0.4444297669803978 L 0.11807873565164506,0.5286032631740022 L 0.07612046748871326,0.6173165676349102 L 0.043059664267791176,0.7097153227455376 L 0.01921471959676957,0.8049096779838714 L 0.004815273327803182,0.9019828596704391 L 0.0,0.9999999999999999 L 0.004815273327803071,1.0980171403295607 L 0.01921471959676957,1.1950903220161284 L 0.043059664267791065,1.290284677254462 L 0.07612046748871315,1.3826834323650896 L 0.11807873565164495,1.4713967368259977 L 0.16853038769745454,1.555570233019602 L 0.2269895466372629,1.6343932841636453 L 0.2928932188134523,1.7071067811865475 L 0.36560671583635407,1.7730104533627367 L 0.4444297669803978,1.8314696123025453 L 0.5286032631740021,1.881921264348355 L 0.6173165676349097,1.9238795325112865 L 0.7097153227455375,1.9569403357322088 L 0.8049096779838714,1.9807852804032304 L 0.9019828596704396,1.995184726672197 L 0.9999999999999998,2.0 L 1.09801714032956,1.995184726672197 L 1.1950903220161284,1.9807852804032304 L 1.290284677254462,1.956940335732209 L 1.38268343236509,1.9238795325112865 L 1.4713967368259975,1.881921264348355 L 1.4999999999999998,1.8647771281738243 L 1.528603263174002,1.881921264348355 L 1.6173165676349097,1.9238795325112865 L 1.7097153227455375,1.9569403357322088 L 1.8049096779838714,1.9807852804032304 L 1.9019828596704396,1.995184726672197 L 1.9999999999999998,2.0 L 2.09801714032956,1.995184726672197 L 2.1950903220161284,1.9807852804032304 L 2.290284677254462,1.956940335732209 L 2.38268343236509,1.9238795325112865 L 2.4713967368259975,1.881921264348355 L 2.5555702330196017,1.8314696123025453 L 2.6343932841636457,1.7730104533627369 L 2.7071067811865475,1.7071067811865477 L 2.7730104533627364,1.634393284163646 L 2.8314696123025453,1.5555702330196022 L 2.881921264348355,1.471396736825998 L 2.9238795325112865,1.3826834323650905 L 2.9569403357322086,1.2902846772544625 L 2.9807852804032304,1.1950903220161286 L 2.995184726672197,1.0980171403295604 L 3.0,1.0 L 2.995184726672197,0.9019828596704393 L 2.9807852804032304,0.8049096779838718 L 2.9569403357322086,0.7097153227455377 L 2.923879532511287,0.6173165676349102 L 2.881921264348355,0.5286032631740023 L 2.8314696123025453,0.4444297669803978 L 2.773010453362737,0.3656067158363545 L 2.7071067811865475,0.2928932188134524 L 2.6343932841636457,0.22698954663726312 L 2.555570233019602,0.16853038769745476 L 2.471396736825998,0.11807873565164506 L 2.3826834323650896,0.07612046748871326 L 2.2902846772544625,0.043059664267791065 L 2.1950903220161284,0.01921471959676957 L 2.098017140329561,0.004815273327803182 L 2.0,0.0 L 1.9019828596704393,0.004815273327803071 L 1.8049096779838718,0.01921471959676957 L 1.709715322745538,0.043059664267791065 L 1.6173165676349104,0.07612046748871326 L 1.5286032631740023,0.11807873565164495 L 1.5,0.13522287182617557 L 1.471396736825998,0.11807873565164506 z\" /></g></svg>"
      ],
      "text/plain": [
       "<POLYGON ((1.471 0.118, 1.383 0.076, 1.29 0.043, 1.195 0.019, 1.098 0.005, 1...>"
      ]
     },
     "execution_count": 61,
     "metadata": {},
     "output_type": "execute_result"
    }
   ],
   "source": [
    "circulo_union = circulo_1.union(circulo_2)\n",
    "circulo_union"
   ]
  },
  {
   "cell_type": "code",
   "execution_count": 63,
   "metadata": {},
   "outputs": [
    {
     "data": {
      "image/svg+xml": [
       "<svg xmlns=\"http://www.w3.org/2000/svg\" xmlns:xlink=\"http://www.w3.org/1999/xlink\" width=\"100.0\" height=\"100.0\" viewBox=\"-0.08 -0.08 1.6600000000000001 2.16\" preserveAspectRatio=\"xMinYMin meet\"><g transform=\"matrix(1,0,0,-1,0,2.0)\"><path fill-rule=\"evenodd\" fill=\"#66cc99\" stroke=\"#555555\" stroke-width=\"0.0432\" opacity=\"0.6\" d=\"M 1.471396736825998,0.11807873565164506 L 1.3826834323650898,0.07612046748871326 L 1.2902846772544623,0.043059664267791065 L 1.1950903220161284,0.01921471959676957 L 1.0980171403295609,0.004815273327803182 L 1.0,0.0 L 0.9019828596704393,0.004815273327803071 L 0.8049096779838718,0.01921471959676957 L 0.7097153227455378,0.043059664267791065 L 0.6173165676349103,0.07612046748871326 L 0.5286032631740023,0.11807873565164495 L 0.44442976698039804,0.16853038769745465 L 0.3656067158363546,0.2269895466372629 L 0.29289321881345254,0.2928932188134524 L 0.226989546637263,0.3656067158363545 L 0.16853038769745465,0.4444297669803978 L 0.11807873565164506,0.5286032631740022 L 0.07612046748871326,0.6173165676349102 L 0.043059664267791176,0.7097153227455376 L 0.01921471959676957,0.8049096779838714 L 0.004815273327803182,0.9019828596704391 L 0.0,0.9999999999999999 L 0.004815273327803071,1.0980171403295607 L 0.01921471959676957,1.1950903220161284 L 0.043059664267791065,1.290284677254462 L 0.07612046748871315,1.3826834323650896 L 0.11807873565164495,1.4713967368259977 L 0.16853038769745454,1.555570233019602 L 0.2269895466372629,1.6343932841636453 L 0.2928932188134523,1.7071067811865475 L 0.36560671583635407,1.7730104533627367 L 0.4444297669803978,1.8314696123025453 L 0.5286032631740021,1.881921264348355 L 0.6173165676349097,1.9238795325112865 L 0.7097153227455375,1.9569403357322088 L 0.8049096779838714,1.9807852804032304 L 0.9019828596704396,1.995184726672197 L 0.9999999999999998,2.0 L 1.09801714032956,1.995184726672197 L 1.1950903220161284,1.9807852804032304 L 1.290284677254462,1.956940335732209 L 1.38268343236509,1.9238795325112865 L 1.4713967368259975,1.881921264348355 L 1.4999999999999998,1.8647771281738243 L 1.4444297669803978,1.8314696123025453 L 1.365606715836354,1.7730104533627367 L 1.2928932188134523,1.7071067811865475 L 1.226989546637263,1.6343932841636453 L 1.1685303876974547,1.555570233019602 L 1.118078735651645,1.4713967368259977 L 1.076120467488713,1.3826834323650896 L 1.043059664267791,1.290284677254462 L 1.0192147195967696,1.1950903220161284 L 1.004815273327803,1.0980171403295607 L 1.0,0.9999999999999999 L 1.0048152733278033,0.9019828596704391 L 1.0192147195967696,0.8049096779838714 L 1.0430596642677912,0.7097153227455376 L 1.0761204674887133,0.6173165676349102 L 1.118078735651645,0.5286032631740022 L 1.1685303876974547,0.4444297669803978 L 1.2269895466372631,0.3656067158363545 L 1.2928932188134525,0.2928932188134524 L 1.3656067158363547,0.2269895466372629 L 1.444429766980398,0.16853038769745465 L 1.5,0.13522287182617557 L 1.471396736825998,0.11807873565164506 z\" /></g></svg>"
      ],
      "text/plain": [
       "<POLYGON ((1.471 0.118, 1.383 0.076, 1.29 0.043, 1.195 0.019, 1.098 0.005, 1...>"
      ]
     },
     "execution_count": 63,
     "metadata": {},
     "output_type": "execute_result"
    }
   ],
   "source": [
    "circulo_diff_1 = circulo_1.difference(circulo_2)\n",
    "circulo_diff_1"
   ]
  },
  {
   "cell_type": "code",
   "execution_count": 64,
   "metadata": {},
   "outputs": [
    {
     "data": {
      "image/svg+xml": [
       "<svg xmlns=\"http://www.w3.org/2000/svg\" xmlns:xlink=\"http://www.w3.org/1999/xlink\" width=\"100.0\" height=\"100.0\" viewBox=\"1.4199999999999997 -0.08 1.6600000000000004 2.16\" preserveAspectRatio=\"xMinYMin meet\"><g transform=\"matrix(1,0,0,-1,0,2.0)\"><path fill-rule=\"evenodd\" fill=\"#66cc99\" stroke=\"#555555\" stroke-width=\"0.0432\" opacity=\"0.6\" d=\"M 2.995184726672197,0.9019828596704393 L 2.9807852804032304,0.8049096779838718 L 2.9569403357322086,0.7097153227455377 L 2.923879532511287,0.6173165676349102 L 2.881921264348355,0.5286032631740023 L 2.8314696123025453,0.4444297669803978 L 2.773010453362737,0.3656067158363545 L 2.7071067811865475,0.2928932188134524 L 2.6343932841636457,0.22698954663726312 L 2.555570233019602,0.16853038769745476 L 2.471396736825998,0.11807873565164506 L 2.3826834323650896,0.07612046748871326 L 2.2902846772544625,0.043059664267791065 L 2.1950903220161284,0.01921471959676957 L 2.098017140329561,0.004815273327803182 L 2.0,0.0 L 1.9019828596704393,0.004815273327803071 L 1.8049096779838718,0.01921471959676957 L 1.709715322745538,0.043059664267791065 L 1.6173165676349104,0.07612046748871326 L 1.5286032631740023,0.11807873565164495 L 1.5,0.13522287182617557 L 1.5555702330196022,0.16853038769745476 L 1.6343932841636455,0.22698954663726312 L 1.7071067811865475,0.2928932188134524 L 1.7730104533627369,0.3656067158363545 L 1.8314696123025453,0.4444297669803978 L 1.881921264348355,0.5286032631740023 L 1.9238795325112867,0.6173165676349102 L 1.9569403357322088,0.7097153227455377 L 1.9807852804032304,0.8049096779838718 L 1.995184726672197,0.9019828596704393 L 2.0,1.0 L 1.995184726672197,1.0980171403295604 L 1.9807852804032304,1.1950903220161286 L 1.9569403357322088,1.2902846772544625 L 1.9238795325112865,1.3826834323650905 L 1.881921264348355,1.471396736825998 L 1.8314696123025453,1.5555702330196022 L 1.7730104533627364,1.634393284163646 L 1.7071067811865475,1.7071067811865477 L 1.6343932841636457,1.7730104533627369 L 1.5555702330196017,1.8314696123025453 L 1.4999999999999998,1.8647771281738243 L 1.528603263174002,1.881921264348355 L 1.6173165676349097,1.9238795325112865 L 1.7097153227455375,1.9569403357322088 L 1.8049096779838714,1.9807852804032304 L 1.9019828596704396,1.995184726672197 L 1.9999999999999998,2.0 L 2.09801714032956,1.995184726672197 L 2.1950903220161284,1.9807852804032304 L 2.290284677254462,1.956940335732209 L 2.38268343236509,1.9238795325112865 L 2.4713967368259975,1.881921264348355 L 2.5555702330196017,1.8314696123025453 L 2.6343932841636457,1.7730104533627369 L 2.7071067811865475,1.7071067811865477 L 2.7730104533627364,1.634393284163646 L 2.8314696123025453,1.5555702330196022 L 2.881921264348355,1.471396736825998 L 2.9238795325112865,1.3826834323650905 L 2.9569403357322086,1.2902846772544625 L 2.9807852804032304,1.1950903220161286 L 2.995184726672197,1.0980171403295604 L 3.0,1.0 L 2.995184726672197,0.9019828596704393 z\" /></g></svg>"
      ],
      "text/plain": [
       "<POLYGON ((2.995 0.902, 2.981 0.805, 2.957 0.71, 2.924 0.617, 2.882 0.529, 2...>"
      ]
     },
     "execution_count": 64,
     "metadata": {},
     "output_type": "execute_result"
    }
   ],
   "source": [
    "circulo_diff_2 = circulo_2.difference(circulo_1)\n",
    "circulo_diff_2"
   ]
  },
  {
   "cell_type": "code",
   "execution_count": 65,
   "metadata": {},
   "outputs": [
    {
     "data": {
      "image/svg+xml": [
       "<svg xmlns=\"http://www.w3.org/2000/svg\" xmlns:xlink=\"http://www.w3.org/1999/xlink\" width=\"100.0\" height=\"100.0\" viewBox=\"-0.12 -0.12 3.24 2.24\" preserveAspectRatio=\"xMinYMin meet\"><g transform=\"matrix(1,0,0,-1,0,2.0)\"><g><path fill-rule=\"evenodd\" fill=\"#66cc99\" stroke=\"#555555\" stroke-width=\"0.06480000000000001\" opacity=\"0.6\" d=\"M 1.5555702330196022,0.16853038769745476 L 1.6343932841636455,0.22698954663726312 L 1.7071067811865475,0.2928932188134524 L 1.7730104533627369,0.3656067158363545 L 1.8314696123025453,0.4444297669803978 L 1.881921264348355,0.5286032631740023 L 1.9238795325112867,0.6173165676349102 L 1.9569403357322088,0.7097153227455377 L 1.9807852804032304,0.8049096779838718 L 1.995184726672197,0.9019828596704393 L 2.0,1.0 L 1.995184726672197,1.0980171403295604 L 1.9807852804032304,1.1950903220161286 L 1.9569403357322088,1.2902846772544625 L 1.9238795325112865,1.3826834323650905 L 1.881921264348355,1.471396736825998 L 1.8314696123025453,1.5555702330196022 L 1.7730104533627364,1.634393284163646 L 1.7071067811865475,1.7071067811865477 L 1.6343932841636457,1.7730104533627369 L 1.5555702330196017,1.8314696123025453 L 1.4999999999999998,1.8647771281738243 L 1.528603263174002,1.881921264348355 L 1.6173165676349097,1.9238795325112865 L 1.7097153227455375,1.9569403357322088 L 1.8049096779838714,1.9807852804032304 L 1.9019828596704396,1.995184726672197 L 1.9999999999999998,2.0 L 2.09801714032956,1.995184726672197 L 2.1950903220161284,1.9807852804032304 L 2.290284677254462,1.956940335732209 L 2.38268343236509,1.9238795325112865 L 2.4713967368259975,1.881921264348355 L 2.5555702330196017,1.8314696123025453 L 2.6343932841636457,1.7730104533627369 L 2.7071067811865475,1.7071067811865477 L 2.7730104533627364,1.634393284163646 L 2.8314696123025453,1.5555702330196022 L 2.881921264348355,1.471396736825998 L 2.9238795325112865,1.3826834323650905 L 2.9569403357322086,1.2902846772544625 L 2.9807852804032304,1.1950903220161286 L 2.995184726672197,1.0980171403295604 L 3.0,1.0 L 2.995184726672197,0.9019828596704393 L 2.9807852804032304,0.8049096779838718 L 2.9569403357322086,0.7097153227455377 L 2.923879532511287,0.6173165676349102 L 2.881921264348355,0.5286032631740023 L 2.8314696123025453,0.4444297669803978 L 2.773010453362737,0.3656067158363545 L 2.7071067811865475,0.2928932188134524 L 2.6343932841636457,0.22698954663726312 L 2.555570233019602,0.16853038769745476 L 2.471396736825998,0.11807873565164506 L 2.3826834323650896,0.07612046748871326 L 2.2902846772544625,0.043059664267791065 L 2.1950903220161284,0.01921471959676957 L 2.098017140329561,0.004815273327803182 L 2.0,0.0 L 1.9019828596704393,0.004815273327803071 L 1.8049096779838718,0.01921471959676957 L 1.709715322745538,0.043059664267791065 L 1.6173165676349104,0.07612046748871326 L 1.5286032631740023,0.11807873565164495 L 1.5,0.13522287182617557 L 1.5555702330196022,0.16853038769745476 z\" /><path fill-rule=\"evenodd\" fill=\"#66cc99\" stroke=\"#555555\" stroke-width=\"0.06480000000000001\" opacity=\"0.6\" d=\"M 1.471396736825998,0.11807873565164506 L 1.3826834323650898,0.07612046748871326 L 1.2902846772544623,0.043059664267791065 L 1.1950903220161284,0.01921471959676957 L 1.0980171403295609,0.004815273327803182 L 1.0,0.0 L 0.9019828596704393,0.004815273327803071 L 0.8049096779838718,0.01921471959676957 L 0.7097153227455378,0.043059664267791065 L 0.6173165676349103,0.07612046748871326 L 0.5286032631740023,0.11807873565164495 L 0.44442976698039804,0.16853038769745465 L 0.3656067158363546,0.2269895466372629 L 0.29289321881345254,0.2928932188134524 L 0.226989546637263,0.3656067158363545 L 0.16853038769745465,0.4444297669803978 L 0.11807873565164506,0.5286032631740022 L 0.07612046748871326,0.6173165676349102 L 0.043059664267791176,0.7097153227455376 L 0.01921471959676957,0.8049096779838714 L 0.004815273327803182,0.9019828596704391 L 0.0,0.9999999999999999 L 0.004815273327803071,1.0980171403295607 L 0.01921471959676957,1.1950903220161284 L 0.043059664267791065,1.290284677254462 L 0.07612046748871315,1.3826834323650896 L 0.11807873565164495,1.4713967368259977 L 0.16853038769745454,1.555570233019602 L 0.2269895466372629,1.6343932841636453 L 0.2928932188134523,1.7071067811865475 L 0.36560671583635407,1.7730104533627367 L 0.4444297669803978,1.8314696123025453 L 0.5286032631740021,1.881921264348355 L 0.6173165676349097,1.9238795325112865 L 0.7097153227455375,1.9569403357322088 L 0.8049096779838714,1.9807852804032304 L 0.9019828596704396,1.995184726672197 L 0.9999999999999998,2.0 L 1.09801714032956,1.995184726672197 L 1.1950903220161284,1.9807852804032304 L 1.290284677254462,1.956940335732209 L 1.38268343236509,1.9238795325112865 L 1.4713967368259975,1.881921264348355 L 1.4999999999999998,1.8647771281738243 L 1.4444297669803978,1.8314696123025453 L 1.365606715836354,1.7730104533627367 L 1.2928932188134523,1.7071067811865475 L 1.226989546637263,1.6343932841636453 L 1.1685303876974547,1.555570233019602 L 1.118078735651645,1.4713967368259977 L 1.076120467488713,1.3826834323650896 L 1.043059664267791,1.290284677254462 L 1.0192147195967696,1.1950903220161284 L 1.004815273327803,1.0980171403295607 L 1.0,0.9999999999999999 L 1.0048152733278033,0.9019828596704391 L 1.0192147195967696,0.8049096779838714 L 1.0430596642677912,0.7097153227455376 L 1.0761204674887133,0.6173165676349102 L 1.118078735651645,0.5286032631740022 L 1.1685303876974547,0.4444297669803978 L 1.2269895466372631,0.3656067158363545 L 1.2928932188134525,0.2928932188134524 L 1.3656067158363547,0.2269895466372629 L 1.444429766980398,0.16853038769745465 L 1.5,0.13522287182617557 L 1.471396736825998,0.11807873565164506 z\" /></g></g></svg>"
      ],
      "text/plain": [
       "<MULTIPOLYGON (((1.556 0.169, 1.634 0.227, 1.707 0.293, 1.773 0.366, 1.831 0...>"
      ]
     },
     "execution_count": 65,
     "metadata": {},
     "output_type": "execute_result"
    }
   ],
   "source": [
    "circulo_symmetric_diff = circulo_1.symmetric_difference(circulo_2)\n",
    "circulo_symmetric_diff "
   ]
  }
 ],
 "metadata": {
  "kernelspec": {
   "display_name": "Python 3",
   "language": "python",
   "name": "python3"
  },
  "language_info": {
   "codemirror_mode": {
    "name": "ipython",
    "version": 3
   },
   "file_extension": ".py",
   "mimetype": "text/x-python",
   "name": "python",
   "nbconvert_exporter": "python",
   "pygments_lexer": "ipython3",
   "version": "3.12.6"
  }
 },
 "nbformat": 4,
 "nbformat_minor": 2
}
